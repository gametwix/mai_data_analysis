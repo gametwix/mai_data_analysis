{
 "cells": [
  {
   "cell_type": "code",
   "execution_count": 1,
   "id": "f385294e",
   "metadata": {},
   "outputs": [],
   "source": [
    "import os\n",
    "os.environ['PYSPARK_SUBMIT_ARGS'] = \"--packages org.apache.spark:spark-sql-kafka-0-10_2.12:3.2.2 pyspark-shell\""
   ]
  },
  {
   "cell_type": "code",
   "execution_count": 2,
   "id": "e40eedc8",
   "metadata": {},
   "outputs": [
    {
     "data": {
      "text/plain": [
       "'/Users/pavel/miniconda3/envs/spark/lib/python3.10/site-packages/pyspark'"
      ]
     },
     "execution_count": 2,
     "metadata": {},
     "output_type": "execute_result"
    }
   ],
   "source": [
    "import findspark\n",
    "import pandas as pd\n",
    "findspark.init()\n",
    "findspark.find()"
   ]
  },
  {
   "cell_type": "code",
   "execution_count": 3,
   "id": "876d647e",
   "metadata": {},
   "outputs": [],
   "source": [
    "from pyspark.sql import SparkSession"
   ]
  },
  {
   "cell_type": "code",
   "execution_count": 4,
   "id": "347d4ca6",
   "metadata": {},
   "outputs": [
    {
     "name": "stdout",
     "output_type": "stream",
     "text": [
      ":: loading settings :: url = jar:file:/Users/pavel/miniconda3/envs/spark/lib/python3.10/site-packages/pyspark/jars/ivy-2.5.1.jar!/org/apache/ivy/core/settings/ivysettings.xml\n"
     ]
    },
    {
     "name": "stderr",
     "output_type": "stream",
     "text": [
      "Ivy Default Cache set to: /Users/pavel/.ivy2/cache\n",
      "The jars for the packages stored in: /Users/pavel/.ivy2/jars\n",
      "org.apache.spark#spark-sql-kafka-0-10_2.12 added as a dependency\n",
      ":: resolving dependencies :: org.apache.spark#spark-submit-parent-89a9e047-805c-40ac-b5dc-27f4e7565bb2;1.0\n",
      "\tconfs: [default]\n",
      "\tfound org.apache.spark#spark-sql-kafka-0-10_2.12;3.2.2 in central\n",
      "\tfound org.apache.spark#spark-token-provider-kafka-0-10_2.12;3.2.2 in central\n",
      "\tfound org.apache.kafka#kafka-clients;2.8.1 in central\n",
      "\tfound org.lz4#lz4-java;1.7.1 in central\n",
      "\tfound org.xerial.snappy#snappy-java;1.1.8.4 in central\n",
      "\tfound org.slf4j#slf4j-api;1.7.30 in central\n",
      "\tfound org.apache.hadoop#hadoop-client-runtime;3.3.1 in central\n",
      "\tfound org.spark-project.spark#unused;1.0.0 in central\n",
      "\tfound org.apache.hadoop#hadoop-client-api;3.3.1 in central\n",
      "\tfound org.apache.htrace#htrace-core4;4.1.0-incubating in central\n",
      "\tfound commons-logging#commons-logging;1.1.3 in central\n",
      "\tfound com.google.code.findbugs#jsr305;3.0.0 in central\n",
      "\tfound org.apache.commons#commons-pool2;2.6.2 in central\n",
      "downloading https://repo1.maven.org/maven2/org/apache/spark/spark-sql-kafka-0-10_2.12/3.2.2/spark-sql-kafka-0-10_2.12-3.2.2.jar ...\n",
      "\t[SUCCESSFUL ] org.apache.spark#spark-sql-kafka-0-10_2.12;3.2.2!spark-sql-kafka-0-10_2.12.jar (160ms)\n",
      "downloading https://repo1.maven.org/maven2/org/apache/spark/spark-token-provider-kafka-0-10_2.12/3.2.2/spark-token-provider-kafka-0-10_2.12-3.2.2.jar ...\n",
      "\t[SUCCESSFUL ] org.apache.spark#spark-token-provider-kafka-0-10_2.12;3.2.2!spark-token-provider-kafka-0-10_2.12.jar (96ms)\n",
      "downloading https://repo1.maven.org/maven2/org/apache/kafka/kafka-clients/2.8.1/kafka-clients-2.8.1.jar ...\n",
      "\t[SUCCESSFUL ] org.apache.kafka#kafka-clients;2.8.1!kafka-clients.jar (979ms)\n",
      "downloading https://repo1.maven.org/maven2/com/google/code/findbugs/jsr305/3.0.0/jsr305-3.0.0.jar ...\n",
      "\t[SUCCESSFUL ] com.google.code.findbugs#jsr305;3.0.0!jsr305.jar (103ms)\n",
      "downloading https://repo1.maven.org/maven2/org/apache/commons/commons-pool2/2.6.2/commons-pool2-2.6.2.jar ...\n",
      "\t[SUCCESSFUL ] org.apache.commons#commons-pool2;2.6.2!commons-pool2.jar (116ms)\n",
      "downloading https://repo1.maven.org/maven2/org/spark-project/spark/unused/1.0.0/unused-1.0.0.jar ...\n",
      "\t[SUCCESSFUL ] org.spark-project.spark#unused;1.0.0!unused.jar (82ms)\n",
      "downloading https://repo1.maven.org/maven2/org/apache/hadoop/hadoop-client-runtime/3.3.1/hadoop-client-runtime-3.3.1.jar ...\n",
      "\t[SUCCESSFUL ] org.apache.hadoop#hadoop-client-runtime;3.3.1!hadoop-client-runtime.jar (9967ms)\n",
      "downloading https://repo1.maven.org/maven2/org/lz4/lz4-java/1.7.1/lz4-java-1.7.1.jar ...\n",
      "\t[SUCCESSFUL ] org.lz4#lz4-java;1.7.1!lz4-java.jar (346ms)\n",
      "downloading https://repo1.maven.org/maven2/org/xerial/snappy/snappy-java/1.1.8.4/snappy-java-1.1.8.4.jar ...\n",
      "\t[SUCCESSFUL ] org.xerial.snappy#snappy-java;1.1.8.4!snappy-java.jar(bundle) (842ms)\n",
      "downloading https://repo1.maven.org/maven2/org/slf4j/slf4j-api/1.7.30/slf4j-api-1.7.30.jar ...\n",
      "\t[SUCCESSFUL ] org.slf4j#slf4j-api;1.7.30!slf4j-api.jar (95ms)\n",
      "downloading https://repo1.maven.org/maven2/org/apache/hadoop/hadoop-client-api/3.3.1/hadoop-client-api-3.3.1.jar ...\n",
      "\t[SUCCESSFUL ] org.apache.hadoop#hadoop-client-api;3.3.1!hadoop-client-api.jar (6199ms)\n",
      "downloading https://repo1.maven.org/maven2/org/apache/htrace/htrace-core4/4.1.0-incubating/htrace-core4-4.1.0-incubating.jar ...\n",
      "\t[SUCCESSFUL ] org.apache.htrace#htrace-core4;4.1.0-incubating!htrace-core4.jar (701ms)\n",
      "downloading https://repo1.maven.org/maven2/commons-logging/commons-logging/1.1.3/commons-logging-1.1.3.jar ...\n",
      "\t[SUCCESSFUL ] commons-logging#commons-logging;1.1.3!commons-logging.jar (103ms)\n",
      ":: resolution report :: resolve 8002ms :: artifacts dl 19804ms\n",
      "\t:: modules in use:\n",
      "\tcom.google.code.findbugs#jsr305;3.0.0 from central in [default]\n",
      "\tcommons-logging#commons-logging;1.1.3 from central in [default]\n",
      "\torg.apache.commons#commons-pool2;2.6.2 from central in [default]\n",
      "\torg.apache.hadoop#hadoop-client-api;3.3.1 from central in [default]\n",
      "\torg.apache.hadoop#hadoop-client-runtime;3.3.1 from central in [default]\n",
      "\torg.apache.htrace#htrace-core4;4.1.0-incubating from central in [default]\n",
      "\torg.apache.kafka#kafka-clients;2.8.1 from central in [default]\n",
      "\torg.apache.spark#spark-sql-kafka-0-10_2.12;3.2.2 from central in [default]\n",
      "\torg.apache.spark#spark-token-provider-kafka-0-10_2.12;3.2.2 from central in [default]\n",
      "\torg.lz4#lz4-java;1.7.1 from central in [default]\n",
      "\torg.slf4j#slf4j-api;1.7.30 from central in [default]\n",
      "\torg.spark-project.spark#unused;1.0.0 from central in [default]\n",
      "\torg.xerial.snappy#snappy-java;1.1.8.4 from central in [default]\n",
      "\t---------------------------------------------------------------------\n",
      "\t|                  |            modules            ||   artifacts   |\n",
      "\t|       conf       | number| search|dwnlded|evicted|| number|dwnlded|\n",
      "\t---------------------------------------------------------------------\n",
      "\t|      default     |   13  |   13  |   13  |   0   ||   13  |   13  |\n",
      "\t---------------------------------------------------------------------\n",
      ":: retrieving :: org.apache.spark#spark-submit-parent-89a9e047-805c-40ac-b5dc-27f4e7565bb2\n",
      "\tconfs: [default]\n",
      "\t13 artifacts copied, 0 already retrieved (59188kB/69ms)\n",
      "23/12/14 15:19:47 WARN NativeCodeLoader: Unable to load native-hadoop library for your platform... using builtin-java classes where applicable\n",
      "Setting default log level to \"WARN\".\n",
      "To adjust logging level use sc.setLogLevel(newLevel). For SparkR, use setLogLevel(newLevel).\n"
     ]
    }
   ],
   "source": [
    "spark = SparkSession.builder\\\n",
    "   .master(\"local\")\\\n",
    "   .appName(\"kafka-example\")\\\n",
    "   .getOrCreate()"
   ]
  },
  {
   "cell_type": "code",
   "execution_count": 5,
   "id": "c4ba4a7a",
   "metadata": {},
   "outputs": [],
   "source": [
    "df = spark.readStream \\\n",
    "        .format(\"kafka\") \\\n",
    "        .option(\"kafka.bootstrap.servers\", 'localhost:29092,localhost:39092') \\\n",
    "        .option('subscribe', 'topic')\\\n",
    "        .load()"
   ]
  },
  {
   "cell_type": "code",
   "execution_count": 6,
   "id": "40c8047e",
   "metadata": {},
   "outputs": [],
   "source": [
    "from pyspark.sql.types import StringType"
   ]
  },
  {
   "cell_type": "code",
   "execution_count": 7,
   "id": "9a58be17",
   "metadata": {},
   "outputs": [],
   "source": [
    "df1 = df.withColumn(\"value\", df[\"value\"].cast(StringType()))"
   ]
  },
  {
   "cell_type": "code",
   "execution_count": 12,
   "id": "2ac2a34a",
   "metadata": {},
   "outputs": [
    {
     "ename": "AnalysisException",
     "evalue": "Queries with streaming sources must be executed with writeStream.start();\nkafka",
     "output_type": "error",
     "traceback": [
      "\u001b[0;31m---------------------------------------------------------------------------\u001b[0m",
      "\u001b[0;31mAnalysisException\u001b[0m                         Traceback (most recent call last)",
      "Cell \u001b[0;32mIn[12], line 1\u001b[0m\n\u001b[0;32m----> 1\u001b[0m \u001b[43mdf1\u001b[49m\u001b[38;5;241;43m.\u001b[39;49m\u001b[43mshow\u001b[49m\u001b[43m(\u001b[49m\u001b[43m)\u001b[49m\n",
      "File \u001b[0;32m~/miniconda3/envs/spark/lib/python3.10/site-packages/pyspark/sql/dataframe.py:899\u001b[0m, in \u001b[0;36mDataFrame.show\u001b[0;34m(self, n, truncate, vertical)\u001b[0m\n\u001b[1;32m    893\u001b[0m     \u001b[38;5;28;01mraise\u001b[39;00m PySparkTypeError(\n\u001b[1;32m    894\u001b[0m         error_class\u001b[38;5;241m=\u001b[39m\u001b[38;5;124m\"\u001b[39m\u001b[38;5;124mNOT_BOOL\u001b[39m\u001b[38;5;124m\"\u001b[39m,\n\u001b[1;32m    895\u001b[0m         message_parameters\u001b[38;5;241m=\u001b[39m{\u001b[38;5;124m\"\u001b[39m\u001b[38;5;124marg_name\u001b[39m\u001b[38;5;124m\"\u001b[39m: \u001b[38;5;124m\"\u001b[39m\u001b[38;5;124mvertical\u001b[39m\u001b[38;5;124m\"\u001b[39m, \u001b[38;5;124m\"\u001b[39m\u001b[38;5;124marg_type\u001b[39m\u001b[38;5;124m\"\u001b[39m: \u001b[38;5;28mtype\u001b[39m(vertical)\u001b[38;5;241m.\u001b[39m\u001b[38;5;18m__name__\u001b[39m},\n\u001b[1;32m    896\u001b[0m     )\n\u001b[1;32m    898\u001b[0m \u001b[38;5;28;01mif\u001b[39;00m \u001b[38;5;28misinstance\u001b[39m(truncate, \u001b[38;5;28mbool\u001b[39m) \u001b[38;5;129;01mand\u001b[39;00m truncate:\n\u001b[0;32m--> 899\u001b[0m     \u001b[38;5;28mprint\u001b[39m(\u001b[38;5;28;43mself\u001b[39;49m\u001b[38;5;241;43m.\u001b[39;49m\u001b[43m_jdf\u001b[49m\u001b[38;5;241;43m.\u001b[39;49m\u001b[43mshowString\u001b[49m\u001b[43m(\u001b[49m\u001b[43mn\u001b[49m\u001b[43m,\u001b[49m\u001b[43m \u001b[49m\u001b[38;5;241;43m20\u001b[39;49m\u001b[43m,\u001b[49m\u001b[43m \u001b[49m\u001b[43mvertical\u001b[49m\u001b[43m)\u001b[49m)\n\u001b[1;32m    900\u001b[0m \u001b[38;5;28;01melse\u001b[39;00m:\n\u001b[1;32m    901\u001b[0m     \u001b[38;5;28;01mtry\u001b[39;00m:\n",
      "File \u001b[0;32m~/miniconda3/envs/spark/lib/python3.10/site-packages/py4j/java_gateway.py:1322\u001b[0m, in \u001b[0;36mJavaMember.__call__\u001b[0;34m(self, *args)\u001b[0m\n\u001b[1;32m   1316\u001b[0m command \u001b[38;5;241m=\u001b[39m proto\u001b[38;5;241m.\u001b[39mCALL_COMMAND_NAME \u001b[38;5;241m+\u001b[39m\\\n\u001b[1;32m   1317\u001b[0m     \u001b[38;5;28mself\u001b[39m\u001b[38;5;241m.\u001b[39mcommand_header \u001b[38;5;241m+\u001b[39m\\\n\u001b[1;32m   1318\u001b[0m     args_command \u001b[38;5;241m+\u001b[39m\\\n\u001b[1;32m   1319\u001b[0m     proto\u001b[38;5;241m.\u001b[39mEND_COMMAND_PART\n\u001b[1;32m   1321\u001b[0m answer \u001b[38;5;241m=\u001b[39m \u001b[38;5;28mself\u001b[39m\u001b[38;5;241m.\u001b[39mgateway_client\u001b[38;5;241m.\u001b[39msend_command(command)\n\u001b[0;32m-> 1322\u001b[0m return_value \u001b[38;5;241m=\u001b[39m \u001b[43mget_return_value\u001b[49m\u001b[43m(\u001b[49m\n\u001b[1;32m   1323\u001b[0m \u001b[43m    \u001b[49m\u001b[43manswer\u001b[49m\u001b[43m,\u001b[49m\u001b[43m \u001b[49m\u001b[38;5;28;43mself\u001b[39;49m\u001b[38;5;241;43m.\u001b[39;49m\u001b[43mgateway_client\u001b[49m\u001b[43m,\u001b[49m\u001b[43m \u001b[49m\u001b[38;5;28;43mself\u001b[39;49m\u001b[38;5;241;43m.\u001b[39;49m\u001b[43mtarget_id\u001b[49m\u001b[43m,\u001b[49m\u001b[43m \u001b[49m\u001b[38;5;28;43mself\u001b[39;49m\u001b[38;5;241;43m.\u001b[39;49m\u001b[43mname\u001b[49m\u001b[43m)\u001b[49m\n\u001b[1;32m   1325\u001b[0m \u001b[38;5;28;01mfor\u001b[39;00m temp_arg \u001b[38;5;129;01min\u001b[39;00m temp_args:\n\u001b[1;32m   1326\u001b[0m     \u001b[38;5;28;01mif\u001b[39;00m \u001b[38;5;28mhasattr\u001b[39m(temp_arg, \u001b[38;5;124m\"\u001b[39m\u001b[38;5;124m_detach\u001b[39m\u001b[38;5;124m\"\u001b[39m):\n",
      "File \u001b[0;32m~/miniconda3/envs/spark/lib/python3.10/site-packages/pyspark/errors/exceptions/captured.py:175\u001b[0m, in \u001b[0;36mcapture_sql_exception.<locals>.deco\u001b[0;34m(*a, **kw)\u001b[0m\n\u001b[1;32m    171\u001b[0m converted \u001b[38;5;241m=\u001b[39m convert_exception(e\u001b[38;5;241m.\u001b[39mjava_exception)\n\u001b[1;32m    172\u001b[0m \u001b[38;5;28;01mif\u001b[39;00m \u001b[38;5;129;01mnot\u001b[39;00m \u001b[38;5;28misinstance\u001b[39m(converted, UnknownException):\n\u001b[1;32m    173\u001b[0m     \u001b[38;5;66;03m# Hide where the exception came from that shows a non-Pythonic\u001b[39;00m\n\u001b[1;32m    174\u001b[0m     \u001b[38;5;66;03m# JVM exception message.\u001b[39;00m\n\u001b[0;32m--> 175\u001b[0m     \u001b[38;5;28;01mraise\u001b[39;00m converted \u001b[38;5;28;01mfrom\u001b[39;00m \u001b[38;5;28;01mNone\u001b[39;00m\n\u001b[1;32m    176\u001b[0m \u001b[38;5;28;01melse\u001b[39;00m:\n\u001b[1;32m    177\u001b[0m     \u001b[38;5;28;01mraise\u001b[39;00m\n",
      "\u001b[0;31mAnalysisException\u001b[0m: Queries with streaming sources must be executed with writeStream.start();\nkafka"
     ]
    }
   ],
   "source": [
    "df1.show()"
   ]
  },
  {
   "cell_type": "code",
   "execution_count": 9,
   "id": "66eadb5e",
   "metadata": {},
   "outputs": [],
   "source": [
    "from pyspark.sql.functions import from_json\n",
    "from pyspark.sql.types import StructType, StructField, BooleanType, LongType, IntegerType"
   ]
  },
  {
   "cell_type": "code",
   "execution_count": 13,
   "id": "fbe5df36",
   "metadata": {},
   "outputs": [
    {
     "name": "stderr",
     "output_type": "stream",
     "text": [
      "23/12/14 15:21:02 WARN ResolveWriteToStream: spark.sql.adaptive.enabled is not supported in streaming DataFrames/Datasets and will be disabled.\n",
      "23/12/14 15:21:02 WARN StreamingQueryManager: Stopping existing streaming query [id=81e5cdf4-e080-409f-93fd-1d6561e38f26, runId=13e821e3-af4d-41af-b08d-be1fa301997e], as a new run is being started.\n"
     ]
    },
    {
     "name": "stderr",
     "output_type": "stream",
     "text": [
      "23/12/14 15:21:02 WARN AdminClientConfig: The configuration 'key.deserializer' was supplied but isn't a known config.\n",
      "23/12/14 15:21:02 WARN AdminClientConfig: The configuration 'value.deserializer' was supplied but isn't a known config.\n",
      "23/12/14 15:21:02 WARN AdminClientConfig: The configuration 'enable.auto.commit' was supplied but isn't a known config.\n",
      "23/12/14 15:21:02 WARN AdminClientConfig: The configuration 'max.poll.records' was supplied but isn't a known config.\n",
      "23/12/14 15:21:02 WARN AdminClientConfig: The configuration 'auto.offset.reset' was supplied but isn't a known config.\n"
     ]
    }
   ],
   "source": [
    "output = df1.writeStream.outputMode(\"append\")\\\n",
    "        .format('parquet')\\\n",
    "        .option(\"checkpointLocation\", './kafka_stream.parquet')\\\n",
    "        .option(\"path\",'./kafka_stream.parquet').start()"
   ]
  },
  {
   "cell_type": "code",
   "execution_count": 16,
   "id": "10803619",
   "metadata": {},
   "outputs": [
    {
     "name": "stderr",
     "output_type": "stream",
     "text": [
      "23/12/14 15:24:43 WARN ResolveWriteToStream: Temporary checkpoint location created which is deleted normally when the query didn't fail: /private/var/folders/bm/6sf1ct396kg9hjg882z2h7_r0000gn/T/temporary-05e434e7-45ba-4006-a65d-b862f4838a8c. If it's required to delete it under any circumstances, please set spark.sql.streaming.forceDeleteTempCheckpointLocation to true. Important to know deleting temp checkpoint folder is best effort.\n",
      "23/12/14 15:24:43 WARN ResolveWriteToStream: spark.sql.adaptive.enabled is not supported in streaming DataFrames/Datasets and will be disabled.\n"
     ]
    },
    {
     "name": "stderr",
     "output_type": "stream",
     "text": [
      "23/12/14 15:24:43 WARN AdminClientConfig: The configuration 'key.deserializer' was supplied but isn't a known config.\n",
      "23/12/14 15:24:43 WARN AdminClientConfig: The configuration 'value.deserializer' was supplied but isn't a known config.\n",
      "23/12/14 15:24:43 WARN AdminClientConfig: The configuration 'enable.auto.commit' was supplied but isn't a known config.\n",
      "23/12/14 15:24:43 WARN AdminClientConfig: The configuration 'max.poll.records' was supplied but isn't a known config.\n",
      "23/12/14 15:24:43 WARN AdminClientConfig: The configuration 'auto.offset.reset' was supplied but isn't a known config.\n"
     ]
    },
    {
     "name": "stdout",
     "output_type": "stream",
     "text": [
      "-------------------------------------------\n",
      "Batch: 0\n",
      "-------------------------------------------\n",
      "+---+-----+-----+---------+------+---------+-------------+\n",
      "|key|value|topic|partition|offset|timestamp|timestampType|\n",
      "+---+-----+-----+---------+------+---------+-------------+\n",
      "+---+-----+-----+---------+------+---------+-------------+\n",
      "\n"
     ]
    }
   ],
   "source": [
    "output = df1.writeStream.outputMode(\"append\").format('console').start()"
   ]
  },
  {
   "cell_type": "code",
   "execution_count": 17,
   "id": "b59fa7ed",
   "metadata": {},
   "outputs": [
    {
     "name": "stdout",
     "output_type": "stream",
     "text": [
      "-------------------------------------------\n",
      "Batch: 1\n",
      "-------------------------------------------\n",
      "+----+--------------------+-----+---------+------+--------------------+-------------+\n",
      "| key|               value|topic|partition|offset|           timestamp|timestampType|\n",
      "+----+--------------------+-----+---------+------+--------------------+-------------+\n",
      "|null|{\"3\": \"{\\\"name\\\":...|topic|        0|    16|2023-12-14 15:24:...|            0|\n",
      "+----+--------------------+-----+---------+------+--------------------+-------------+\n",
      "\n"
     ]
    },
    {
     "name": "stderr",
     "output_type": "stream",
     "text": [
      "                                                                                \r"
     ]
    },
    {
     "name": "stdout",
     "output_type": "stream",
     "text": [
      "-------------------------------------------\n",
      "Batch: 2\n",
      "-------------------------------------------\n",
      "+----+--------------------+-----+---------+------+--------------------+-------------+\n",
      "| key|               value|topic|partition|offset|           timestamp|timestampType|\n",
      "+----+--------------------+-----+---------+------+--------------------+-------------+\n",
      "|null|{\"3\": \"{\\\"name\\\":...|topic|        0|    17|2023-12-14 15:24:...|            0|\n",
      "+----+--------------------+-----+---------+------+--------------------+-------------+\n",
      "\n",
      "-------------------------------------------\n",
      "Batch: 3\n",
      "-------------------------------------------\n",
      "+----+--------------------+-----+---------+------+--------------------+-------------+\n",
      "| key|               value|topic|partition|offset|           timestamp|timestampType|\n",
      "+----+--------------------+-----+---------+------+--------------------+-------------+\n",
      "|null|{\"3\": \"{\\\"name\\\":...|topic|        0|    18|2023-12-14 15:25:...|            0|\n",
      "+----+--------------------+-----+---------+------+--------------------+-------------+\n",
      "\n",
      "-------------------------------------------\n",
      "Batch: 4\n",
      "-------------------------------------------\n",
      "+----+--------------------+-----+---------+------+--------------------+-------------+\n",
      "| key|               value|topic|partition|offset|           timestamp|timestampType|\n",
      "+----+--------------------+-----+---------+------+--------------------+-------------+\n",
      "|null|{\"3\": \"{\\\"name\\\":...|topic|        0|    19|2023-12-14 15:25:...|            0|\n",
      "+----+--------------------+-----+---------+------+--------------------+-------------+\n",
      "\n",
      "-------------------------------------------\n",
      "Batch: 5\n",
      "-------------------------------------------\n",
      "+----+--------------------+-----+---------+------+--------------------+-------------+\n",
      "| key|               value|topic|partition|offset|           timestamp|timestampType|\n",
      "+----+--------------------+-----+---------+------+--------------------+-------------+\n",
      "|null|{\"4\": \"{\\\"name\\\":...|topic|        0|    20|2023-12-14 15:25:...|            0|\n",
      "+----+--------------------+-----+---------+------+--------------------+-------------+\n",
      "\n",
      "-------------------------------------------\n",
      "Batch: 6\n",
      "-------------------------------------------\n",
      "+----+--------------------+-----+---------+------+--------------------+-------------+\n",
      "| key|               value|topic|partition|offset|           timestamp|timestampType|\n",
      "+----+--------------------+-----+---------+------+--------------------+-------------+\n",
      "|null|{\"4\": \"{\\\"name\\\":...|topic|        0|    21|2023-12-14 15:25:...|            0|\n",
      "+----+--------------------+-----+---------+------+--------------------+-------------+\n",
      "\n"
     ]
    },
    {
     "name": "stderr",
     "output_type": "stream",
     "text": [
      "ERROR:root:KeyboardInterrupt while sending command.                             \n",
      "Traceback (most recent call last):\n",
      "  File \"/Users/pavel/miniconda3/envs/spark/lib/python3.10/site-packages/py4j/java_gateway.py\", line 1038, in send_command\n",
      "    response = connection.send_command(command)\n",
      "  File \"/Users/pavel/miniconda3/envs/spark/lib/python3.10/site-packages/py4j/clientserver.py\", line 511, in send_command\n",
      "    answer = smart_decode(self.stream.readline()[:-1])\n",
      "  File \"/Users/pavel/miniconda3/envs/spark/lib/python3.10/socket.py\", line 705, in readinto\n",
      "    return self._sock.recv_into(b)\n",
      "KeyboardInterrupt\n"
     ]
    },
    {
     "ename": "KeyboardInterrupt",
     "evalue": "",
     "output_type": "error",
     "traceback": [
      "\u001b[0;31m---------------------------------------------------------------------------\u001b[0m",
      "\u001b[0;31mKeyboardInterrupt\u001b[0m                         Traceback (most recent call last)",
      "Cell \u001b[0;32mIn[17], line 1\u001b[0m\n\u001b[0;32m----> 1\u001b[0m \u001b[43moutput\u001b[49m\u001b[38;5;241;43m.\u001b[39;49m\u001b[43mawaitTermination\u001b[49m\u001b[43m(\u001b[49m\u001b[43m)\u001b[49m\n",
      "File \u001b[0;32m~/miniconda3/envs/spark/lib/python3.10/site-packages/pyspark/sql/streaming/query.py:201\u001b[0m, in \u001b[0;36mStreamingQuery.awaitTermination\u001b[0;34m(self, timeout)\u001b[0m\n\u001b[1;32m    199\u001b[0m     \u001b[38;5;28;01mreturn\u001b[39;00m \u001b[38;5;28mself\u001b[39m\u001b[38;5;241m.\u001b[39m_jsq\u001b[38;5;241m.\u001b[39mawaitTermination(\u001b[38;5;28mint\u001b[39m(timeout \u001b[38;5;241m*\u001b[39m \u001b[38;5;241m1000\u001b[39m))\n\u001b[1;32m    200\u001b[0m \u001b[38;5;28;01melse\u001b[39;00m:\n\u001b[0;32m--> 201\u001b[0m     \u001b[38;5;28;01mreturn\u001b[39;00m \u001b[38;5;28;43mself\u001b[39;49m\u001b[38;5;241;43m.\u001b[39;49m\u001b[43m_jsq\u001b[49m\u001b[38;5;241;43m.\u001b[39;49m\u001b[43mawaitTermination\u001b[49m\u001b[43m(\u001b[49m\u001b[43m)\u001b[49m\n",
      "File \u001b[0;32m~/miniconda3/envs/spark/lib/python3.10/site-packages/py4j/java_gateway.py:1321\u001b[0m, in \u001b[0;36mJavaMember.__call__\u001b[0;34m(self, *args)\u001b[0m\n\u001b[1;32m   1314\u001b[0m args_command, temp_args \u001b[38;5;241m=\u001b[39m \u001b[38;5;28mself\u001b[39m\u001b[38;5;241m.\u001b[39m_build_args(\u001b[38;5;241m*\u001b[39margs)\n\u001b[1;32m   1316\u001b[0m command \u001b[38;5;241m=\u001b[39m proto\u001b[38;5;241m.\u001b[39mCALL_COMMAND_NAME \u001b[38;5;241m+\u001b[39m\\\n\u001b[1;32m   1317\u001b[0m     \u001b[38;5;28mself\u001b[39m\u001b[38;5;241m.\u001b[39mcommand_header \u001b[38;5;241m+\u001b[39m\\\n\u001b[1;32m   1318\u001b[0m     args_command \u001b[38;5;241m+\u001b[39m\\\n\u001b[1;32m   1319\u001b[0m     proto\u001b[38;5;241m.\u001b[39mEND_COMMAND_PART\n\u001b[0;32m-> 1321\u001b[0m answer \u001b[38;5;241m=\u001b[39m \u001b[38;5;28;43mself\u001b[39;49m\u001b[38;5;241;43m.\u001b[39;49m\u001b[43mgateway_client\u001b[49m\u001b[38;5;241;43m.\u001b[39;49m\u001b[43msend_command\u001b[49m\u001b[43m(\u001b[49m\u001b[43mcommand\u001b[49m\u001b[43m)\u001b[49m\n\u001b[1;32m   1322\u001b[0m return_value \u001b[38;5;241m=\u001b[39m get_return_value(\n\u001b[1;32m   1323\u001b[0m     answer, \u001b[38;5;28mself\u001b[39m\u001b[38;5;241m.\u001b[39mgateway_client, \u001b[38;5;28mself\u001b[39m\u001b[38;5;241m.\u001b[39mtarget_id, \u001b[38;5;28mself\u001b[39m\u001b[38;5;241m.\u001b[39mname)\n\u001b[1;32m   1325\u001b[0m \u001b[38;5;28;01mfor\u001b[39;00m temp_arg \u001b[38;5;129;01min\u001b[39;00m temp_args:\n",
      "File \u001b[0;32m~/miniconda3/envs/spark/lib/python3.10/site-packages/py4j/java_gateway.py:1038\u001b[0m, in \u001b[0;36mGatewayClient.send_command\u001b[0;34m(self, command, retry, binary)\u001b[0m\n\u001b[1;32m   1036\u001b[0m connection \u001b[38;5;241m=\u001b[39m \u001b[38;5;28mself\u001b[39m\u001b[38;5;241m.\u001b[39m_get_connection()\n\u001b[1;32m   1037\u001b[0m \u001b[38;5;28;01mtry\u001b[39;00m:\n\u001b[0;32m-> 1038\u001b[0m     response \u001b[38;5;241m=\u001b[39m \u001b[43mconnection\u001b[49m\u001b[38;5;241;43m.\u001b[39;49m\u001b[43msend_command\u001b[49m\u001b[43m(\u001b[49m\u001b[43mcommand\u001b[49m\u001b[43m)\u001b[49m\n\u001b[1;32m   1039\u001b[0m     \u001b[38;5;28;01mif\u001b[39;00m binary:\n\u001b[1;32m   1040\u001b[0m         \u001b[38;5;28;01mreturn\u001b[39;00m response, \u001b[38;5;28mself\u001b[39m\u001b[38;5;241m.\u001b[39m_create_connection_guard(connection)\n",
      "File \u001b[0;32m~/miniconda3/envs/spark/lib/python3.10/site-packages/py4j/clientserver.py:511\u001b[0m, in \u001b[0;36mClientServerConnection.send_command\u001b[0;34m(self, command)\u001b[0m\n\u001b[1;32m    509\u001b[0m \u001b[38;5;28;01mtry\u001b[39;00m:\n\u001b[1;32m    510\u001b[0m     \u001b[38;5;28;01mwhile\u001b[39;00m \u001b[38;5;28;01mTrue\u001b[39;00m:\n\u001b[0;32m--> 511\u001b[0m         answer \u001b[38;5;241m=\u001b[39m smart_decode(\u001b[38;5;28;43mself\u001b[39;49m\u001b[38;5;241;43m.\u001b[39;49m\u001b[43mstream\u001b[49m\u001b[38;5;241;43m.\u001b[39;49m\u001b[43mreadline\u001b[49m\u001b[43m(\u001b[49m\u001b[43m)\u001b[49m[:\u001b[38;5;241m-\u001b[39m\u001b[38;5;241m1\u001b[39m])\n\u001b[1;32m    512\u001b[0m         logger\u001b[38;5;241m.\u001b[39mdebug(\u001b[38;5;124m\"\u001b[39m\u001b[38;5;124mAnswer received: \u001b[39m\u001b[38;5;132;01m{0}\u001b[39;00m\u001b[38;5;124m\"\u001b[39m\u001b[38;5;241m.\u001b[39mformat(answer))\n\u001b[1;32m    513\u001b[0m         \u001b[38;5;66;03m# Happens when a the other end is dead. There might be an empty\u001b[39;00m\n\u001b[1;32m    514\u001b[0m         \u001b[38;5;66;03m# answer before the socket raises an error.\u001b[39;00m\n",
      "File \u001b[0;32m~/miniconda3/envs/spark/lib/python3.10/socket.py:705\u001b[0m, in \u001b[0;36mSocketIO.readinto\u001b[0;34m(self, b)\u001b[0m\n\u001b[1;32m    703\u001b[0m \u001b[38;5;28;01mwhile\u001b[39;00m \u001b[38;5;28;01mTrue\u001b[39;00m:\n\u001b[1;32m    704\u001b[0m     \u001b[38;5;28;01mtry\u001b[39;00m:\n\u001b[0;32m--> 705\u001b[0m         \u001b[38;5;28;01mreturn\u001b[39;00m \u001b[38;5;28;43mself\u001b[39;49m\u001b[38;5;241;43m.\u001b[39;49m\u001b[43m_sock\u001b[49m\u001b[38;5;241;43m.\u001b[39;49m\u001b[43mrecv_into\u001b[49m\u001b[43m(\u001b[49m\u001b[43mb\u001b[49m\u001b[43m)\u001b[49m\n\u001b[1;32m    706\u001b[0m     \u001b[38;5;28;01mexcept\u001b[39;00m timeout:\n\u001b[1;32m    707\u001b[0m         \u001b[38;5;28mself\u001b[39m\u001b[38;5;241m.\u001b[39m_timeout_occurred \u001b[38;5;241m=\u001b[39m \u001b[38;5;28;01mTrue\u001b[39;00m\n",
      "\u001b[0;31mKeyboardInterrupt\u001b[0m: "
     ]
    },
    {
     "name": "stderr",
     "output_type": "stream",
     "text": [
      "23/12/14 15:54:23 WARN NetworkClient: [AdminClient clientId=adminclient-3] Connection to node 2 (localhost/127.0.0.1:39092) could not be established. Broker may not be available.\n",
      "23/12/14 15:54:23 WARN NetworkClient: [AdminClient clientId=adminclient-2] Connection to node 2 (localhost/127.0.0.1:39092) could not be established. Broker may not be available.\n",
      "23/12/14 15:54:23 WARN NetworkClient: [AdminClient clientId=adminclient-3] Connection to node 1 (localhost/127.0.0.1:29092) could not be established. Broker may not be available.\n",
      "23/12/14 15:54:23 WARN NetworkClient: [AdminClient clientId=adminclient-2] Connection to node 1 (localhost/127.0.0.1:29092) could not be established. Broker may not be available.\n",
      "23/12/14 15:54:24 WARN NetworkClient: [AdminClient clientId=adminclient-2] Connection to node 1 (localhost/127.0.0.1:29092) could not be established. Broker may not be available.\n",
      "23/12/14 15:54:24 WARN NetworkClient: [AdminClient clientId=adminclient-3] Connection to node 2 (localhost/127.0.0.1:39092) could not be established. Broker may not be available.\n",
      "23/12/14 15:54:24 WARN NetworkClient: [AdminClient clientId=adminclient-2] Connection to node 2 (localhost/127.0.0.1:39092) could not be established. Broker may not be available.\n",
      "23/12/14 15:54:24 WARN NetworkClient: [AdminClient clientId=adminclient-3] Connection to node 1 (localhost/127.0.0.1:29092) could not be established. Broker may not be available.\n",
      "23/12/14 15:54:24 WARN NetworkClient: [AdminClient clientId=adminclient-2] Connection to node 1 (localhost/127.0.0.1:29092) could not be established. Broker may not be available.\n",
      "23/12/14 15:54:24 WARN NetworkClient: [AdminClient clientId=adminclient-3] Connection to node 2 (localhost/127.0.0.1:39092) could not be established. Broker may not be available.\n",
      "23/12/14 15:54:24 WARN NetworkClient: [AdminClient clientId=adminclient-2] Connection to node 2 (localhost/127.0.0.1:39092) could not be established. Broker may not be available.\n",
      "23/12/14 15:54:24 WARN NetworkClient: [AdminClient clientId=adminclient-3] Connection to node 1 (localhost/127.0.0.1:29092) could not be established. Broker may not be available.\n",
      "23/12/14 15:54:24 WARN NetworkClient: [AdminClient clientId=adminclient-2] Connection to node 1 (localhost/127.0.0.1:29092) could not be established. Broker may not be available.\n",
      "23/12/14 15:54:24 WARN NetworkClient: [AdminClient clientId=adminclient-3] Connection to node 2 (localhost/127.0.0.1:39092) could not be established. Broker may not be available.\n",
      "23/12/14 15:54:24 WARN NetworkClient: [AdminClient clientId=adminclient-3] Connection to node 1 (localhost/127.0.0.1:29092) could not be established. Broker may not be available.\n",
      "23/12/14 15:54:24 WARN NetworkClient: [AdminClient clientId=adminclient-2] Connection to node 2 (localhost/127.0.0.1:39092) could not be established. Broker may not be available.\n",
      "23/12/14 15:54:25 WARN NetworkClient: [AdminClient clientId=adminclient-2] Connection to node 1 (localhost/127.0.0.1:29092) could not be established. Broker may not be available.\n",
      "23/12/14 15:54:25 WARN NetworkClient: [AdminClient clientId=adminclient-2] Connection to node 2 (localhost/127.0.0.1:39092) could not be established. Broker may not be available.\n",
      "23/12/14 15:54:25 WARN NetworkClient: [AdminClient clientId=adminclient-3] Connection to node 2 (localhost/127.0.0.1:39092) could not be established. Broker may not be available.\n",
      "23/12/14 15:54:25 WARN NetworkClient: [AdminClient clientId=adminclient-3] Connection to node 1 (localhost/127.0.0.1:29092) could not be established. Broker may not be available.\n",
      "23/12/14 15:54:26 WARN NetworkClient: [AdminClient clientId=adminclient-3] Connection to node 2 (localhost/127.0.0.1:39092) could not be established. Broker may not be available.\n",
      "23/12/14 15:54:26 WARN NetworkClient: [AdminClient clientId=adminclient-2] Connection to node 1 (localhost/127.0.0.1:29092) could not be established. Broker may not be available.\n",
      "23/12/14 15:54:26 WARN NetworkClient: [AdminClient clientId=adminclient-3] Connection to node 1 (localhost/127.0.0.1:29092) could not be established. Broker may not be available.\n",
      "23/12/14 15:54:26 WARN NetworkClient: [AdminClient clientId=adminclient-2] Connection to node 2 (localhost/127.0.0.1:39092) could not be established. Broker may not be available.\n",
      "23/12/14 15:54:27 WARN NetworkClient: [AdminClient clientId=adminclient-3] Connection to node 2 (localhost/127.0.0.1:39092) could not be established. Broker may not be available.\n",
      "23/12/14 15:54:27 WARN NetworkClient: [AdminClient clientId=adminclient-3] Connection to node 1 (localhost/127.0.0.1:29092) could not be established. Broker may not be available.\n",
      "23/12/14 15:54:27 WARN NetworkClient: [AdminClient clientId=adminclient-2] Connection to node 2 (localhost/127.0.0.1:39092) could not be established. Broker may not be available.\n",
      "23/12/14 15:54:27 WARN NetworkClient: [AdminClient clientId=adminclient-2] Connection to node 1 (localhost/127.0.0.1:29092) could not be established. Broker may not be available.\n",
      "23/12/14 15:54:28 WARN NetworkClient: [AdminClient clientId=adminclient-3] Connection to node 2 (localhost/127.0.0.1:39092) could not be established. Broker may not be available.\n",
      "23/12/14 15:54:28 WARN NetworkClient: [AdminClient clientId=adminclient-2] Connection to node 2 (localhost/127.0.0.1:39092) could not be established. Broker may not be available.\n",
      "23/12/14 15:54:28 WARN NetworkClient: [AdminClient clientId=adminclient-3] Connection to node 1 (localhost/127.0.0.1:29092) could not be established. Broker may not be available.\n",
      "23/12/14 15:54:28 WARN NetworkClient: [AdminClient clientId=adminclient-2] Connection to node 1 (localhost/127.0.0.1:29092) could not be established. Broker may not be available.\n",
      "23/12/14 15:54:29 WARN NetworkClient: [AdminClient clientId=adminclient-2] Connection to node 2 (localhost/127.0.0.1:39092) could not be established. Broker may not be available.\n",
      "23/12/14 15:54:29 WARN NetworkClient: [AdminClient clientId=adminclient-3] Connection to node 2 (localhost/127.0.0.1:39092) could not be established. Broker may not be available.\n",
      "23/12/14 15:54:29 WARN NetworkClient: [AdminClient clientId=adminclient-3] Connection to node 1 (localhost/127.0.0.1:29092) could not be established. Broker may not be available.\n",
      "23/12/14 15:54:29 WARN NetworkClient: [AdminClient clientId=adminclient-2] Connection to node 1 (localhost/127.0.0.1:29092) could not be established. Broker may not be available.\n",
      "23/12/14 15:54:30 WARN NetworkClient: [AdminClient clientId=adminclient-2] Connection to node 2 (localhost/127.0.0.1:39092) could not be established. Broker may not be available.\n",
      "23/12/14 15:54:30 WARN NetworkClient: [AdminClient clientId=adminclient-3] Connection to node 2 (localhost/127.0.0.1:39092) could not be established. Broker may not be available.\n",
      "23/12/14 15:54:30 WARN NetworkClient: [AdminClient clientId=adminclient-2] Connection to node 1 (localhost/127.0.0.1:29092) could not be established. Broker may not be available.\n",
      "23/12/14 15:54:30 WARN NetworkClient: [AdminClient clientId=adminclient-3] Connection to node 1 (localhost/127.0.0.1:29092) could not be established. Broker may not be available.\n",
      "23/12/14 15:54:31 WARN NetworkClient: [AdminClient clientId=adminclient-2] Connection to node 2 (localhost/127.0.0.1:39092) could not be established. Broker may not be available.\n",
      "23/12/14 15:54:31 WARN NetworkClient: [AdminClient clientId=adminclient-2] Connection to node 1 (localhost/127.0.0.1:29092) could not be established. Broker may not be available.\n",
      "23/12/14 15:54:31 WARN NetworkClient: [AdminClient clientId=adminclient-3] Connection to node 2 (localhost/127.0.0.1:39092) could not be established. Broker may not be available.\n",
      "23/12/14 15:54:32 WARN NetworkClient: [AdminClient clientId=adminclient-3] Connection to node 1 (localhost/127.0.0.1:29092) could not be established. Broker may not be available.\n",
      "23/12/14 15:54:32 WARN NetworkClient: [AdminClient clientId=adminclient-2] Connection to node 1 (localhost/127.0.0.1:29092) could not be established. Broker may not be available.\n",
      "23/12/14 15:54:32 WARN NetworkClient: [AdminClient clientId=adminclient-2] Connection to node 2 (localhost/127.0.0.1:39092) could not be established. Broker may not be available.\n",
      "23/12/14 15:54:32 WARN NetworkClient: [AdminClient clientId=adminclient-3] Connection to node 2 (localhost/127.0.0.1:39092) could not be established. Broker may not be available.\n",
      "23/12/14 15:54:33 WARN NetworkClient: [AdminClient clientId=adminclient-3] Connection to node 1 (localhost/127.0.0.1:29092) could not be established. Broker may not be available.\n",
      "23/12/14 15:54:33 WARN NetworkClient: [AdminClient clientId=adminclient-2] Connection to node 2 (localhost/127.0.0.1:39092) could not be established. Broker may not be available.\n",
      "23/12/14 15:54:33 WARN NetworkClient: [AdminClient clientId=adminclient-2] Connection to node 1 (localhost/127.0.0.1:29092) could not be established. Broker may not be available.\n",
      "23/12/14 15:54:33 WARN NetworkClient: [AdminClient clientId=adminclient-3] Connection to node 2 (localhost/127.0.0.1:39092) could not be established. Broker may not be available.\n",
      "23/12/14 15:54:33 WARN NetworkClient: [AdminClient clientId=adminclient-3] Connection to node 1 (localhost/127.0.0.1:29092) could not be established. Broker may not be available.\n",
      "23/12/14 15:54:34 WARN NetworkClient: [AdminClient clientId=adminclient-2] Connection to node 2 (localhost/127.0.0.1:39092) could not be established. Broker may not be available.\n",
      "23/12/14 15:54:34 WARN NetworkClient: [AdminClient clientId=adminclient-2] Connection to node 1 (localhost/127.0.0.1:29092) could not be established. Broker may not be available.\n",
      "23/12/14 15:54:34 WARN NetworkClient: [AdminClient clientId=adminclient-3] Connection to node 1 (localhost/127.0.0.1:29092) could not be established. Broker may not be available.\n",
      "23/12/14 15:54:35 WARN NetworkClient: [AdminClient clientId=adminclient-3] Connection to node 2 (localhost/127.0.0.1:39092) could not be established. Broker may not be available.\n",
      "23/12/14 15:54:35 WARN NetworkClient: [AdminClient clientId=adminclient-2] Connection to node 2 (localhost/127.0.0.1:39092) could not be established. Broker may not be available.\n",
      "23/12/14 15:54:35 WARN NetworkClient: [AdminClient clientId=adminclient-2] Connection to node 1 (localhost/127.0.0.1:29092) could not be established. Broker may not be available.\n",
      "23/12/14 15:54:36 WARN NetworkClient: [AdminClient clientId=adminclient-3] Connection to node 1 (localhost/127.0.0.1:29092) could not be established. Broker may not be available.\n",
      "23/12/14 15:54:36 WARN NetworkClient: [AdminClient clientId=adminclient-3] Connection to node 2 (localhost/127.0.0.1:39092) could not be established. Broker may not be available.\n",
      "23/12/14 15:54:36 WARN NetworkClient: [AdminClient clientId=adminclient-2] Connection to node 2 (localhost/127.0.0.1:39092) could not be established. Broker may not be available.\n",
      "23/12/14 15:54:36 WARN NetworkClient: [AdminClient clientId=adminclient-2] Connection to node 1 (localhost/127.0.0.1:29092) could not be established. Broker may not be available.\n",
      "23/12/14 15:54:36 WARN NetworkClient: [AdminClient clientId=adminclient-3] Connection to node 1 (localhost/127.0.0.1:29092) could not be established. Broker may not be available.\n",
      "23/12/14 15:54:37 WARN NetworkClient: [AdminClient clientId=adminclient-3] Connection to node 2 (localhost/127.0.0.1:39092) could not be established. Broker may not be available.\n",
      "23/12/14 15:54:37 WARN NetworkClient: [AdminClient clientId=adminclient-2] Connection to node 2 (localhost/127.0.0.1:39092) could not be established. Broker may not be available.\n",
      "23/12/14 15:54:37 WARN NetworkClient: [AdminClient clientId=adminclient-2] Connection to node 1 (localhost/127.0.0.1:29092) could not be established. Broker may not be available.\n",
      "23/12/14 15:54:38 WARN NetworkClient: [AdminClient clientId=adminclient-3] Connection to node 1 (localhost/127.0.0.1:29092) could not be established. Broker may not be available.\n",
      "23/12/14 15:54:38 WARN NetworkClient: [AdminClient clientId=adminclient-3] Connection to node 2 (localhost/127.0.0.1:39092) could not be established. Broker may not be available.\n",
      "23/12/14 15:54:38 WARN NetworkClient: [AdminClient clientId=adminclient-2] Connection to node 2 (localhost/127.0.0.1:39092) could not be established. Broker may not be available.\n",
      "23/12/14 15:54:38 WARN NetworkClient: [AdminClient clientId=adminclient-2] Connection to node 1 (localhost/127.0.0.1:29092) could not be established. Broker may not be available.\n",
      "23/12/14 15:54:38 WARN NetworkClient: [AdminClient clientId=adminclient-3] Connection to node 1 (localhost/127.0.0.1:29092) could not be established. Broker may not be available.\n",
      "23/12/14 15:54:39 WARN NetworkClient: [AdminClient clientId=adminclient-3] Connection to node 2 (localhost/127.0.0.1:39092) could not be established. Broker may not be available.\n",
      "23/12/14 15:54:39 WARN NetworkClient: [AdminClient clientId=adminclient-2] Connection to node 1 (localhost/127.0.0.1:29092) could not be established. Broker may not be available.\n",
      "23/12/14 15:54:39 WARN NetworkClient: [AdminClient clientId=adminclient-2] Connection to node 2 (localhost/127.0.0.1:39092) could not be established. Broker may not be available.\n",
      "23/12/14 15:54:39 WARN NetworkClient: [AdminClient clientId=adminclient-3] Connection to node 1 (localhost/127.0.0.1:29092) could not be established. Broker may not be available.\n",
      "23/12/14 15:54:40 WARN NetworkClient: [AdminClient clientId=adminclient-3] Connection to node 2 (localhost/127.0.0.1:39092) could not be established. Broker may not be available.\n",
      "23/12/14 15:54:40 WARN NetworkClient: [AdminClient clientId=adminclient-2] Connection to node 1 (localhost/127.0.0.1:29092) could not be established. Broker may not be available.\n",
      "23/12/14 15:54:40 WARN NetworkClient: [AdminClient clientId=adminclient-3] Connection to node 1 (localhost/127.0.0.1:29092) could not be established. Broker may not be available.\n",
      "23/12/14 15:54:41 WARN NetworkClient: [AdminClient clientId=adminclient-2] Connection to node 2 (localhost/127.0.0.1:39092) could not be established. Broker may not be available.\n",
      "23/12/14 15:54:41 WARN NetworkClient: [AdminClient clientId=adminclient-2] Connection to node 1 (localhost/127.0.0.1:29092) could not be established. Broker may not be available.\n",
      "23/12/14 15:54:41 WARN NetworkClient: [AdminClient clientId=adminclient-3] Connection to node 1 (localhost/127.0.0.1:29092) could not be established. Broker may not be available.\n",
      "23/12/14 15:54:41 WARN NetworkClient: [AdminClient clientId=adminclient-3] Connection to node 2 (localhost/127.0.0.1:39092) could not be established. Broker may not be available.\n",
      "23/12/14 15:54:42 WARN NetworkClient: [AdminClient clientId=adminclient-2] Connection to node 2 (localhost/127.0.0.1:39092) could not be established. Broker may not be available.\n",
      "23/12/14 15:54:42 WARN NetworkClient: [AdminClient clientId=adminclient-2] Connection to node 1 (localhost/127.0.0.1:29092) could not be established. Broker may not be available.\n",
      "23/12/14 15:54:42 WARN NetworkClient: [AdminClient clientId=adminclient-3] Connection to node 1 (localhost/127.0.0.1:29092) could not be established. Broker may not be available.\n",
      "23/12/14 15:54:42 WARN NetworkClient: [AdminClient clientId=adminclient-3] Connection to node 2 (localhost/127.0.0.1:39092) could not be established. Broker may not be available.\n",
      "23/12/14 15:54:43 WARN NetworkClient: [AdminClient clientId=adminclient-2] Connection to node 2 (localhost/127.0.0.1:39092) could not be established. Broker may not be available.\n",
      "23/12/14 15:54:43 WARN NetworkClient: [AdminClient clientId=adminclient-3] Connection to node 1 (localhost/127.0.0.1:29092) could not be established. Broker may not be available.\n",
      "23/12/14 15:54:43 WARN NetworkClient: [AdminClient clientId=adminclient-2] Connection to node 1 (localhost/127.0.0.1:29092) could not be established. Broker may not be available.\n",
      "23/12/14 15:54:43 WARN NetworkClient: [AdminClient clientId=adminclient-3] Connection to node 2 (localhost/127.0.0.1:39092) could not be established. Broker may not be available.\n",
      "23/12/14 15:54:44 WARN NetworkClient: [AdminClient clientId=adminclient-2] Connection to node 2 (localhost/127.0.0.1:39092) could not be established. Broker may not be available.\n",
      "23/12/14 15:54:44 WARN NetworkClient: [AdminClient clientId=adminclient-3] Connection to node 1 (localhost/127.0.0.1:29092) could not be established. Broker may not be available.\n",
      "23/12/14 15:54:44 WARN NetworkClient: [AdminClient clientId=adminclient-2] Connection to node 1 (localhost/127.0.0.1:29092) could not be established. Broker may not be available.\n",
      "23/12/14 15:54:44 WARN NetworkClient: [AdminClient clientId=adminclient-3] Connection to node 2 (localhost/127.0.0.1:39092) could not be established. Broker may not be available.\n",
      "23/12/14 15:54:45 WARN NetworkClient: [AdminClient clientId=adminclient-2] Connection to node 2 (localhost/127.0.0.1:39092) could not be established. Broker may not be available.\n",
      "23/12/14 15:54:45 WARN NetworkClient: [AdminClient clientId=adminclient-3] Connection to node 1 (localhost/127.0.0.1:29092) could not be established. Broker may not be available.\n",
      "23/12/14 15:54:45 WARN NetworkClient: [AdminClient clientId=adminclient-3] Connection to node 2 (localhost/127.0.0.1:39092) could not be established. Broker may not be available.\n",
      "23/12/14 15:54:46 WARN NetworkClient: [AdminClient clientId=adminclient-2] Connection to node 1 (localhost/127.0.0.1:29092) could not be established. Broker may not be available.\n",
      "23/12/14 15:54:46 WARN NetworkClient: [AdminClient clientId=adminclient-2] Connection to node 2 (localhost/127.0.0.1:39092) could not be established. Broker may not be available.\n",
      "23/12/14 15:54:46 WARN NetworkClient: [AdminClient clientId=adminclient-3] Connection to node 2 (localhost/127.0.0.1:39092) could not be established. Broker may not be available.\n",
      "23/12/14 15:54:47 WARN NetworkClient: [AdminClient clientId=adminclient-3] Connection to node 1 (localhost/127.0.0.1:29092) could not be established. Broker may not be available.\n",
      "23/12/14 15:54:47 WARN NetworkClient: [AdminClient clientId=adminclient-2] Connection to node 1 (localhost/127.0.0.1:29092) could not be established. Broker may not be available.\n",
      "23/12/14 15:54:47 WARN NetworkClient: [AdminClient clientId=adminclient-2] Connection to node 2 (localhost/127.0.0.1:39092) could not be established. Broker may not be available.\n",
      "23/12/14 15:54:47 WARN NetworkClient: [AdminClient clientId=adminclient-2] Connection to node 1 (localhost/127.0.0.1:29092) could not be established. Broker may not be available.\n",
      "23/12/14 15:54:47 WARN NetworkClient: [AdminClient clientId=adminclient-3] Connection to node 1 (localhost/127.0.0.1:29092) could not be established. Broker may not be available.\n",
      "23/12/14 15:54:48 WARN NetworkClient: [AdminClient clientId=adminclient-3] Connection to node 2 (localhost/127.0.0.1:39092) could not be established. Broker may not be available.\n",
      "23/12/14 15:54:48 WARN NetworkClient: [AdminClient clientId=adminclient-2] Connection to node 2 (localhost/127.0.0.1:39092) could not be established. Broker may not be available.\n",
      "23/12/14 15:54:48 WARN NetworkClient: [AdminClient clientId=adminclient-2] Connection to node 1 (localhost/127.0.0.1:29092) could not be established. Broker may not be available.\n",
      "23/12/14 15:54:48 WARN NetworkClient: [AdminClient clientId=adminclient-3] Connection to node 1 (localhost/127.0.0.1:29092) could not be established. Broker may not be available.\n",
      "23/12/14 15:54:49 WARN NetworkClient: [AdminClient clientId=adminclient-3] Connection to node 2 (localhost/127.0.0.1:39092) could not be established. Broker may not be available.\n",
      "23/12/14 15:54:49 WARN NetworkClient: [AdminClient clientId=adminclient-2] Connection to node 2 (localhost/127.0.0.1:39092) could not be established. Broker may not be available.\n",
      "23/12/14 15:54:49 WARN NetworkClient: [AdminClient clientId=adminclient-2] Connection to node 1 (localhost/127.0.0.1:29092) could not be established. Broker may not be available.\n",
      "23/12/14 15:54:50 WARN NetworkClient: [AdminClient clientId=adminclient-3] Connection to node 1 (localhost/127.0.0.1:29092) could not be established. Broker may not be available.\n",
      "23/12/14 15:54:50 WARN NetworkClient: [AdminClient clientId=adminclient-3] Connection to node 2 (localhost/127.0.0.1:39092) could not be established. Broker may not be available.\n",
      "23/12/14 15:54:50 WARN NetworkClient: [AdminClient clientId=adminclient-2] Connection to node 2 (localhost/127.0.0.1:39092) could not be established. Broker may not be available.\n",
      "23/12/14 15:54:50 WARN NetworkClient: [AdminClient clientId=adminclient-2] Connection to node 1 (localhost/127.0.0.1:29092) could not be established. Broker may not be available.\n",
      "23/12/14 15:54:51 WARN NetworkClient: [AdminClient clientId=adminclient-2] Connection to node 2 (localhost/127.0.0.1:39092) could not be established. Broker may not be available.\n",
      "23/12/14 15:54:51 WARN NetworkClient: [AdminClient clientId=adminclient-3] Connection to node 1 (localhost/127.0.0.1:29092) could not be established. Broker may not be available.\n",
      "23/12/14 15:54:51 WARN NetworkClient: [AdminClient clientId=adminclient-3] Connection to node 2 (localhost/127.0.0.1:39092) could not be established. Broker may not be available.\n",
      "23/12/14 15:54:51 WARN NetworkClient: [AdminClient clientId=adminclient-2] Connection to node 1 (localhost/127.0.0.1:29092) could not be established. Broker may not be available.\n",
      "23/12/14 15:54:52 WARN NetworkClient: [AdminClient clientId=adminclient-3] Connection to node 1 (localhost/127.0.0.1:29092) could not be established. Broker may not be available.\n",
      "23/12/14 15:54:52 WARN NetworkClient: [AdminClient clientId=adminclient-2] Connection to node 2 (localhost/127.0.0.1:39092) could not be established. Broker may not be available.\n",
      "23/12/14 15:54:52 WARN NetworkClient: [AdminClient clientId=adminclient-3] Connection to node 2 (localhost/127.0.0.1:39092) could not be established. Broker may not be available.\n",
      "23/12/14 15:54:52 WARN NetworkClient: [AdminClient clientId=adminclient-2] Connection to node 1 (localhost/127.0.0.1:29092) could not be established. Broker may not be available.\n",
      "23/12/14 15:54:53 WARN NetworkClient: [AdminClient clientId=adminclient-2] Connection to node 2 (localhost/127.0.0.1:39092) could not be established. Broker may not be available.\n",
      "23/12/14 15:54:53 WARN NetworkClient: [AdminClient clientId=adminclient-3] Connection to node 1 (localhost/127.0.0.1:29092) could not be established. Broker may not be available.\n",
      "23/12/14 15:54:53 WARN NetworkClient: [AdminClient clientId=adminclient-3] Connection to node 2 (localhost/127.0.0.1:39092) could not be established. Broker may not be available.\n",
      "23/12/14 15:54:53 WARN NetworkClient: [AdminClient clientId=adminclient-2] Connection to node 1 (localhost/127.0.0.1:29092) could not be established. Broker may not be available.\n",
      "23/12/14 15:54:54 WARN NetworkClient: [AdminClient clientId=adminclient-2] Connection to node 2 (localhost/127.0.0.1:39092) could not be established. Broker may not be available.\n",
      "23/12/14 15:54:54 WARN NetworkClient: [AdminClient clientId=adminclient-3] Connection to node 1 (localhost/127.0.0.1:29092) could not be established. Broker may not be available.\n",
      "23/12/14 15:54:54 WARN NetworkClient: [AdminClient clientId=adminclient-3] Connection to node 2 (localhost/127.0.0.1:39092) could not be established. Broker may not be available.\n",
      "23/12/14 15:54:54 WARN NetworkClient: [AdminClient clientId=adminclient-2] Connection to node 1 (localhost/127.0.0.1:29092) could not be established. Broker may not be available.\n",
      "23/12/14 15:54:55 WARN NetworkClient: [AdminClient clientId=adminclient-3] Connection to node 1 (localhost/127.0.0.1:29092) could not be established. Broker may not be available.\n",
      "23/12/14 15:54:55 WARN NetworkClient: [AdminClient clientId=adminclient-2] Connection to node 2 (localhost/127.0.0.1:39092) could not be established. Broker may not be available.\n",
      "23/12/14 15:54:55 WARN NetworkClient: [AdminClient clientId=adminclient-3] Connection to node 2 (localhost/127.0.0.1:39092) could not be established. Broker may not be available.\n",
      "23/12/14 15:54:55 WARN NetworkClient: [AdminClient clientId=adminclient-2] Connection to node 1 (localhost/127.0.0.1:29092) could not be established. Broker may not be available.\n",
      "23/12/14 15:54:56 WARN NetworkClient: [AdminClient clientId=adminclient-3] Connection to node 1 (localhost/127.0.0.1:29092) could not be established. Broker may not be available.\n",
      "23/12/14 15:54:56 WARN NetworkClient: [AdminClient clientId=adminclient-2] Connection to node 2 (localhost/127.0.0.1:39092) could not be established. Broker may not be available.\n",
      "23/12/14 15:54:56 WARN NetworkClient: [AdminClient clientId=adminclient-3] Connection to node 2 (localhost/127.0.0.1:39092) could not be established. Broker may not be available.\n",
      "23/12/14 15:54:56 WARN NetworkClient: [AdminClient clientId=adminclient-2] Connection to node 1 (localhost/127.0.0.1:29092) could not be established. Broker may not be available.\n",
      "23/12/14 15:54:57 WARN NetworkClient: [AdminClient clientId=adminclient-3] Connection to node 1 (localhost/127.0.0.1:29092) could not be established. Broker may not be available.\n",
      "23/12/14 15:54:57 WARN NetworkClient: [AdminClient clientId=adminclient-2] Connection to node 2 (localhost/127.0.0.1:39092) could not be established. Broker may not be available.\n",
      "23/12/14 15:54:57 WARN NetworkClient: [AdminClient clientId=adminclient-3] Connection to node 2 (localhost/127.0.0.1:39092) could not be established. Broker may not be available.\n",
      "23/12/14 15:54:57 WARN NetworkClient: [AdminClient clientId=adminclient-2] Connection to node 1 (localhost/127.0.0.1:29092) could not be established. Broker may not be available.\n",
      "23/12/14 15:54:58 WARN NetworkClient: [AdminClient clientId=adminclient-3] Connection to node 1 (localhost/127.0.0.1:29092) could not be established. Broker may not be available.\n",
      "23/12/14 15:54:58 WARN NetworkClient: [AdminClient clientId=adminclient-3] Connection to node 2 (localhost/127.0.0.1:39092) could not be established. Broker may not be available.\n",
      "23/12/14 15:54:58 WARN NetworkClient: [AdminClient clientId=adminclient-2] Connection to node 2 (localhost/127.0.0.1:39092) could not be established. Broker may not be available.\n",
      "23/12/14 15:54:58 WARN NetworkClient: [AdminClient clientId=adminclient-2] Connection to node 1 (localhost/127.0.0.1:29092) could not be established. Broker may not be available.\n",
      "23/12/14 15:54:59 WARN NetworkClient: [AdminClient clientId=adminclient-3] Connection to node 1 (localhost/127.0.0.1:29092) could not be established. Broker may not be available.\n",
      "23/12/14 15:54:59 WARN NetworkClient: [AdminClient clientId=adminclient-2] Connection to node 2 (localhost/127.0.0.1:39092) could not be established. Broker may not be available.\n",
      "23/12/14 15:54:59 WARN NetworkClient: [AdminClient clientId=adminclient-3] Connection to node 2 (localhost/127.0.0.1:39092) could not be established. Broker may not be available.\n",
      "23/12/14 15:55:00 WARN NetworkClient: [AdminClient clientId=adminclient-2] Connection to node 1 (localhost/127.0.0.1:29092) could not be established. Broker may not be available.\n",
      "23/12/14 15:55:00 WARN NetworkClient: [AdminClient clientId=adminclient-3] Connection to node 1 (localhost/127.0.0.1:29092) could not be established. Broker may not be available.\n",
      "23/12/14 15:55:00 WARN NetworkClient: [AdminClient clientId=adminclient-2] Connection to node 2 (localhost/127.0.0.1:39092) could not be established. Broker may not be available.\n",
      "23/12/14 15:55:01 WARN NetworkClient: [AdminClient clientId=adminclient-3] Connection to node 2 (localhost/127.0.0.1:39092) could not be established. Broker may not be available.\n",
      "23/12/14 15:55:01 WARN NetworkClient: [AdminClient clientId=adminclient-2] Connection to node 1 (localhost/127.0.0.1:29092) could not be established. Broker may not be available.\n",
      "23/12/14 15:55:01 WARN NetworkClient: [AdminClient clientId=adminclient-3] Connection to node 1 (localhost/127.0.0.1:29092) could not be established. Broker may not be available.\n",
      "23/12/14 15:55:01 WARN NetworkClient: [AdminClient clientId=adminclient-2] Connection to node 2 (localhost/127.0.0.1:39092) could not be established. Broker may not be available.\n",
      "23/12/14 15:55:02 WARN NetworkClient: [AdminClient clientId=adminclient-2] Connection to node 1 (localhost/127.0.0.1:29092) could not be established. Broker may not be available.\n",
      "23/12/14 15:55:02 WARN NetworkClient: [AdminClient clientId=adminclient-3] Connection to node 2 (localhost/127.0.0.1:39092) could not be established. Broker may not be available.\n",
      "23/12/14 15:55:02 WARN NetworkClient: [AdminClient clientId=adminclient-3] Connection to node 1 (localhost/127.0.0.1:29092) could not be established. Broker may not be available.\n",
      "23/12/14 15:55:02 WARN NetworkClient: [AdminClient clientId=adminclient-2] Connection to node 2 (localhost/127.0.0.1:39092) could not be established. Broker may not be available.\n",
      "23/12/14 15:55:03 WARN NetworkClient: [AdminClient clientId=adminclient-2] Connection to node 1 (localhost/127.0.0.1:29092) could not be established. Broker may not be available.\n",
      "23/12/14 15:55:03 WARN NetworkClient: [AdminClient clientId=adminclient-3] Connection to node 2 (localhost/127.0.0.1:39092) could not be established. Broker may not be available.\n",
      "23/12/14 15:55:03 WARN NetworkClient: [AdminClient clientId=adminclient-3] Connection to node 1 (localhost/127.0.0.1:29092) could not be established. Broker may not be available.\n",
      "23/12/14 15:55:03 WARN NetworkClient: [AdminClient clientId=adminclient-2] Connection to node 2 (localhost/127.0.0.1:39092) could not be established. Broker may not be available.\n",
      "23/12/14 15:55:04 WARN NetworkClient: [AdminClient clientId=adminclient-2] Connection to node 1 (localhost/127.0.0.1:29092) could not be established. Broker may not be available.\n",
      "23/12/14 15:55:04 WARN NetworkClient: [AdminClient clientId=adminclient-3] Connection to node 2 (localhost/127.0.0.1:39092) could not be established. Broker may not be available.\n",
      "23/12/14 15:55:04 WARN NetworkClient: [AdminClient clientId=adminclient-3] Connection to node 1 (localhost/127.0.0.1:29092) could not be established. Broker may not be available.\n",
      "23/12/14 15:55:04 WARN NetworkClient: [AdminClient clientId=adminclient-2] Connection to node 2 (localhost/127.0.0.1:39092) could not be established. Broker may not be available.\n",
      "23/12/14 15:55:05 WARN NetworkClient: [AdminClient clientId=adminclient-2] Connection to node 1 (localhost/127.0.0.1:29092) could not be established. Broker may not be available.\n",
      "23/12/14 15:55:05 WARN NetworkClient: [AdminClient clientId=adminclient-3] Connection to node 2 (localhost/127.0.0.1:39092) could not be established. Broker may not be available.\n",
      "23/12/14 15:55:05 WARN NetworkClient: [AdminClient clientId=adminclient-3] Connection to node 1 (localhost/127.0.0.1:29092) could not be established. Broker may not be available.\n",
      "23/12/14 15:55:06 WARN NetworkClient: [AdminClient clientId=adminclient-2] Connection to node 2 (localhost/127.0.0.1:39092) could not be established. Broker may not be available.\n",
      "23/12/14 15:55:06 WARN NetworkClient: [AdminClient clientId=adminclient-2] Connection to node 1 (localhost/127.0.0.1:29092) could not be established. Broker may not be available.\n",
      "23/12/14 15:55:06 WARN NetworkClient: [AdminClient clientId=adminclient-3] Connection to node 2 (localhost/127.0.0.1:39092) could not be established. Broker may not be available.\n",
      "23/12/14 15:55:06 WARN NetworkClient: [AdminClient clientId=adminclient-3] Connection to node 1 (localhost/127.0.0.1:29092) could not be established. Broker may not be available.\n",
      "23/12/14 15:55:07 WARN NetworkClient: [AdminClient clientId=adminclient-2] Connection to node 2 (localhost/127.0.0.1:39092) could not be established. Broker may not be available.\n",
      "23/12/14 15:55:07 WARN NetworkClient: [AdminClient clientId=adminclient-2] Connection to node 1 (localhost/127.0.0.1:29092) could not be established. Broker may not be available.\n",
      "23/12/14 15:55:07 WARN NetworkClient: [AdminClient clientId=adminclient-3] Connection to node 2 (localhost/127.0.0.1:39092) could not be established. Broker may not be available.\n",
      "23/12/14 15:55:08 WARN NetworkClient: [AdminClient clientId=adminclient-2] Connection to node 2 (localhost/127.0.0.1:39092) could not be established. Broker may not be available.\n",
      "23/12/14 15:55:08 WARN NetworkClient: [AdminClient clientId=adminclient-3] Connection to node 1 (localhost/127.0.0.1:29092) could not be established. Broker may not be available.\n",
      "23/12/14 15:55:08 WARN NetworkClient: [AdminClient clientId=adminclient-2] Connection to node 1 (localhost/127.0.0.1:29092) could not be established. Broker may not be available.\n",
      "23/12/14 15:55:09 WARN NetworkClient: [AdminClient clientId=adminclient-3] Connection to node 2 (localhost/127.0.0.1:39092) could not be established. Broker may not be available.\n",
      "23/12/14 15:55:09 WARN NetworkClient: [AdminClient clientId=adminclient-2] Connection to node 1 (localhost/127.0.0.1:29092) could not be established. Broker may not be available.\n",
      "23/12/14 15:55:09 WARN NetworkClient: [AdminClient clientId=adminclient-3] Connection to node 1 (localhost/127.0.0.1:29092) could not be established. Broker may not be available.\n",
      "23/12/14 15:55:09 WARN NetworkClient: [AdminClient clientId=adminclient-2] Connection to node 2 (localhost/127.0.0.1:39092) could not be established. Broker may not be available.\n",
      "23/12/14 15:55:10 WARN NetworkClient: [AdminClient clientId=adminclient-3] Connection to node 2 (localhost/127.0.0.1:39092) could not be established. Broker may not be available.\n",
      "23/12/14 15:55:10 WARN NetworkClient: [AdminClient clientId=adminclient-2] Connection to node 1 (localhost/127.0.0.1:29092) could not be established. Broker may not be available.\n",
      "23/12/14 15:55:10 WARN NetworkClient: [AdminClient clientId=adminclient-3] Connection to node 1 (localhost/127.0.0.1:29092) could not be established. Broker may not be available.\n",
      "23/12/14 15:55:10 WARN NetworkClient: [AdminClient clientId=adminclient-2] Connection to node 2 (localhost/127.0.0.1:39092) could not be established. Broker may not be available.\n",
      "23/12/14 15:55:11 WARN NetworkClient: [AdminClient clientId=adminclient-2] Connection to node 1 (localhost/127.0.0.1:29092) could not be established. Broker may not be available.\n",
      "23/12/14 15:55:11 WARN NetworkClient: [AdminClient clientId=adminclient-3] Connection to node 2 (localhost/127.0.0.1:39092) could not be established. Broker may not be available.\n",
      "23/12/14 15:55:11 WARN NetworkClient: [AdminClient clientId=adminclient-2] Connection to node 2 (localhost/127.0.0.1:39092) could not be established. Broker may not be available.\n",
      "23/12/14 15:55:11 WARN NetworkClient: [AdminClient clientId=adminclient-3] Connection to node 1 (localhost/127.0.0.1:29092) could not be established. Broker may not be available.\n",
      "23/12/14 15:55:12 WARN NetworkClient: [AdminClient clientId=adminclient-2] Connection to node 1 (localhost/127.0.0.1:29092) could not be established. Broker may not be available.\n",
      "23/12/14 15:55:12 WARN NetworkClient: [AdminClient clientId=adminclient-3] Connection to node 2 (localhost/127.0.0.1:39092) could not be established. Broker may not be available.\n",
      "23/12/14 15:55:12 WARN NetworkClient: [AdminClient clientId=adminclient-3] Connection to node 1 (localhost/127.0.0.1:29092) could not be established. Broker may not be available.\n",
      "23/12/14 15:55:12 WARN NetworkClient: [AdminClient clientId=adminclient-2] Connection to node 2 (localhost/127.0.0.1:39092) could not be established. Broker may not be available.\n",
      "23/12/14 15:55:13 WARN NetworkClient: [AdminClient clientId=adminclient-2] Connection to node 1 (localhost/127.0.0.1:29092) could not be established. Broker may not be available.\n",
      "23/12/14 15:55:13 WARN NetworkClient: [AdminClient clientId=adminclient-2] Connection to node 2 (localhost/127.0.0.1:39092) could not be established. Broker may not be available.\n",
      "23/12/14 15:55:13 WARN NetworkClient: [AdminClient clientId=adminclient-3] Connection to node 2 (localhost/127.0.0.1:39092) could not be established. Broker may not be available.\n",
      "23/12/14 15:55:13 WARN NetworkClient: [AdminClient clientId=adminclient-3] Connection to node 1 (localhost/127.0.0.1:29092) could not be established. Broker may not be available.\n",
      "23/12/14 15:55:14 WARN NetworkClient: [AdminClient clientId=adminclient-2] Connection to node 1 (localhost/127.0.0.1:29092) could not be established. Broker may not be available.\n",
      "23/12/14 15:55:14 WARN NetworkClient: [AdminClient clientId=adminclient-3] Connection to node 1 (localhost/127.0.0.1:29092) could not be established. Broker may not be available.\n",
      "23/12/14 15:55:14 WARN NetworkClient: [AdminClient clientId=adminclient-2] Connection to node 2 (localhost/127.0.0.1:39092) could not be established. Broker may not be available.\n",
      "23/12/14 15:55:14 WARN NetworkClient: [AdminClient clientId=adminclient-3] Connection to node 2 (localhost/127.0.0.1:39092) could not be established. Broker may not be available.\n",
      "23/12/14 15:55:14 WARN NetworkClient: [AdminClient clientId=adminclient-2] Connection to node 1 (localhost/127.0.0.1:29092) could not be established. Broker may not be available.\n",
      "23/12/14 15:55:15 WARN NetworkClient: [AdminClient clientId=adminclient-3] Connection to node 1 (localhost/127.0.0.1:29092) could not be established. Broker may not be available.\n",
      "23/12/14 15:55:15 WARN NetworkClient: [AdminClient clientId=adminclient-2] Connection to node 2 (localhost/127.0.0.1:39092) could not be established. Broker may not be available.\n",
      "23/12/14 15:55:15 WARN NetworkClient: [AdminClient clientId=adminclient-3] Connection to node 2 (localhost/127.0.0.1:39092) could not be established. Broker may not be available.\n",
      "23/12/14 15:55:15 WARN NetworkClient: [AdminClient clientId=adminclient-2] Connection to node 1 (localhost/127.0.0.1:29092) could not be established. Broker may not be available.\n",
      "23/12/14 15:55:16 WARN NetworkClient: [AdminClient clientId=adminclient-2] Connection to node 2 (localhost/127.0.0.1:39092) could not be established. Broker may not be available.\n",
      "23/12/14 15:55:16 WARN NetworkClient: [AdminClient clientId=adminclient-3] Connection to node 1 (localhost/127.0.0.1:29092) could not be established. Broker may not be available.\n",
      "23/12/14 15:55:16 WARN NetworkClient: [AdminClient clientId=adminclient-3] Connection to node 2 (localhost/127.0.0.1:39092) could not be established. Broker may not be available.\n",
      "23/12/14 15:55:16 WARN NetworkClient: [AdminClient clientId=adminclient-2] Connection to node 1 (localhost/127.0.0.1:29092) could not be established. Broker may not be available.\n",
      "23/12/14 15:55:17 WARN NetworkClient: [AdminClient clientId=adminclient-2] Connection to node 2 (localhost/127.0.0.1:39092) could not be established. Broker may not be available.\n",
      "23/12/14 15:55:17 WARN NetworkClient: [AdminClient clientId=adminclient-3] Connection to node 1 (localhost/127.0.0.1:29092) could not be established. Broker may not be available.\n",
      "23/12/14 15:55:17 WARN NetworkClient: [AdminClient clientId=adminclient-3] Connection to node 2 (localhost/127.0.0.1:39092) could not be established. Broker may not be available.\n",
      "23/12/14 15:55:18 WARN NetworkClient: [AdminClient clientId=adminclient-2] Connection to node 1 (localhost/127.0.0.1:29092) could not be established. Broker may not be available.\n",
      "23/12/14 15:55:18 WARN NetworkClient: [AdminClient clientId=adminclient-3] Connection to node 1 (localhost/127.0.0.1:29092) could not be established. Broker may not be available.\n",
      "23/12/14 15:55:18 WARN NetworkClient: [AdminClient clientId=adminclient-2] Connection to node 2 (localhost/127.0.0.1:39092) could not be established. Broker may not be available.\n",
      "23/12/14 15:55:19 WARN NetworkClient: [AdminClient clientId=adminclient-2] Connection to node 1 (localhost/127.0.0.1:29092) could not be established. Broker may not be available.\n",
      "23/12/14 15:55:19 WARN NetworkClient: [AdminClient clientId=adminclient-3] Connection to node 2 (localhost/127.0.0.1:39092) could not be established. Broker may not be available.\n"
     ]
    }
   ],
   "source": [
    "output.awaitTermination()"
   ]
  },
  {
   "cell_type": "code",
   "execution_count": 14,
   "id": "ae064e5f",
   "metadata": {},
   "outputs": [
    {
     "ename": "AttributeError",
     "evalue": "'StreamingQuery' object has no attribute 'show'",
     "output_type": "error",
     "traceback": [
      "\u001b[0;31m---------------------------------------------------------------------------\u001b[0m",
      "\u001b[0;31mAttributeError\u001b[0m                            Traceback (most recent call last)",
      "Cell \u001b[0;32mIn[14], line 1\u001b[0m\n\u001b[0;32m----> 1\u001b[0m \u001b[43moutput\u001b[49m\u001b[38;5;241;43m.\u001b[39;49m\u001b[43mshow\u001b[49m()\n",
      "\u001b[0;31mAttributeError\u001b[0m: 'StreamingQuery' object has no attribute 'show'"
     ]
    }
   ],
   "source": [
    "output"
   ]
  },
  {
   "cell_type": "code",
   "execution_count": null,
   "id": "a01fd3de",
   "metadata": {},
   "outputs": [],
   "source": []
  }
 ],
 "metadata": {
  "kernelspec": {
   "display_name": "Python 3 (ipykernel)",
   "language": "python",
   "name": "python3"
  },
  "language_info": {
   "codemirror_mode": {
    "name": "ipython",
    "version": 3
   },
   "file_extension": ".py",
   "mimetype": "text/x-python",
   "name": "python",
   "nbconvert_exporter": "python",
   "pygments_lexer": "ipython3",
   "version": "3.10.13"
  }
 },
 "nbformat": 4,
 "nbformat_minor": 5
}

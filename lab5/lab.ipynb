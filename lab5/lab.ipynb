{
 "cells": [
  {
   "cell_type": "code",
   "execution_count": 20,
   "metadata": {},
   "outputs": [],
   "source": [
    "import findspark\n",
    "import pandas as pd\n",
    "from pyspark.sql.functions import col, max, unix_timestamp, from_unixtime, to_date,coalesce, lit\n",
    "import os\n",
    "from pyspark.sql import SparkSession"
   ]
  },
  {
   "cell_type": "code",
   "execution_count": 21,
   "metadata": {},
   "outputs": [
    {
     "data": {
      "text/plain": [
       "'/Users/pamohlyakov/miniconda3/envs/sparke/lib/python3.10/site-packages/pyspark'"
      ]
     },
     "execution_count": 21,
     "metadata": {},
     "output_type": "execute_result"
    }
   ],
   "source": [
    "findspark.init()\n",
    "findspark.find()"
   ]
  },
  {
   "cell_type": "code",
   "execution_count": 22,
   "metadata": {},
   "outputs": [
    {
     "name": "stderr",
     "output_type": "stream",
     "text": [
      "23/11/23 20:48:08 WARN SparkSession: Using an existing Spark session; only runtime SQL configurations will take effect.\n"
     ]
    }
   ],
   "source": [
    "spark = SparkSession.builder.master(\"local[4]\").appName(\"practice\").getOrCreate()"
   ]
  },
  {
   "cell_type": "code",
   "execution_count": 23,
   "metadata": {},
   "outputs": [],
   "source": [
    "aircraft = spark.read.csv(\"./air_stats/aircraft.csv\", sep=\";\", inferSchema=\"true\", header=\"true\")\n",
    "airlines = spark.read.csv(\"./air_stats/airlines.csv\", sep=\",\", inferSchema=\"true\", header=\"true\")\n",
    "airports = spark.read.csv(\"./air_stats/airports.csv\", sep=\",\", inferSchema=\"true\", header=\"true\")\n",
    "cargo = spark.read.csv(\"./air_stats/cargo transportation.csv\", sep=\";\", inferSchema=\"true\", header=\"true\")\n",
    "passenger = spark.read.csv(\"./air_stats/passenger transportation.csv\", sep=\";\", inferSchema=\"true\", header=\"true\")"
   ]
  },
  {
   "cell_type": "code",
   "execution_count": 24,
   "metadata": {},
   "outputs": [
    {
     "name": "stdout",
     "output_type": "stream",
     "text": [
      "root\n",
      " |-- Вид воздушного судна: string (nullable = true)\n",
      " |-- Тип (наименование) воздушного судна: string (nullable = true)\n",
      " |-- Опознавательные знаки: string (nullable = true)\n",
      " |-- Серийный №: string (nullable = true)\n",
      " |-- Идентификац. №: string (nullable = true)\n",
      " |-- номер свидетельства о регистрации: string (nullable = true)\n",
      " |-- дата действующего свидетельства о регистрации: string (nullable = true)\n",
      "\n"
     ]
    }
   ],
   "source": [
    "aircraft.printSchema()"
   ]
  },
  {
   "cell_type": "code",
   "execution_count": 25,
   "metadata": {},
   "outputs": [
    {
     "name": "stdout",
     "output_type": "stream",
     "text": [
      "root\n",
      " |-- Индекс: integer (nullable = true)\n",
      " |-- Название: string (nullable = true)\n",
      " |-- Юридическое Название: string (nullable = true)\n",
      " |-- Самолеты: string (nullable = true)\n",
      "\n"
     ]
    }
   ],
   "source": [
    "airlines.printSchema()"
   ]
  },
  {
   "cell_type": "code",
   "execution_count": 26,
   "metadata": {},
   "outputs": [
    {
     "name": "stdout",
     "output_type": "stream",
     "text": [
      "root\n",
      " |-- Наименование аэропорта РФ: string (nullable = true)\n",
      " |-- Свидетельство: string (nullable = true)\n",
      " |-- Юрлицо: string (nullable = true)\n",
      " |-- Тип: string (nullable = true)\n",
      "\n"
     ]
    }
   ],
   "source": [
    "airports.printSchema()"
   ]
  },
  {
   "cell_type": "code",
   "execution_count": 27,
   "metadata": {},
   "outputs": [
    {
     "name": "stdout",
     "output_type": "stream",
     "text": [
      "root\n",
      " |-- Наименование аэропорта РФ: string (nullable = true)\n",
      " |-- Год периода данных: integer (nullable = true)\n",
      " |-- Январь: string (nullable = true)\n",
      " |-- Февраль: string (nullable = true)\n",
      " |-- Март: string (nullable = true)\n",
      " |-- Апрель: string (nullable = true)\n",
      " |-- Май: string (nullable = true)\n",
      " |-- Июнь: string (nullable = true)\n",
      " |-- Июль: string (nullable = true)\n",
      " |-- Август: string (nullable = true)\n",
      " |-- Сентябрь: string (nullable = true)\n",
      " |-- Октябрь: string (nullable = true)\n",
      " |-- Ноябрь: string (nullable = true)\n",
      " |-- Декабрь: string (nullable = true)\n",
      " |-- Январь - Декабрь: string (nullable = true)\n",
      "\n"
     ]
    }
   ],
   "source": [
    "cargo.printSchema()"
   ]
  },
  {
   "cell_type": "code",
   "execution_count": 28,
   "metadata": {},
   "outputs": [
    {
     "name": "stdout",
     "output_type": "stream",
     "text": [
      "root\n",
      " |-- Наименование аэропорта РФ: string (nullable = true)\n",
      " |-- Год периода данных: integer (nullable = true)\n",
      " |-- Январь: string (nullable = true)\n",
      " |-- Февраль: string (nullable = true)\n",
      " |-- Март: string (nullable = true)\n",
      " |-- Апрель: string (nullable = true)\n",
      " |-- Май: string (nullable = true)\n",
      " |-- Июнь: string (nullable = true)\n",
      " |-- Июль: string (nullable = true)\n",
      " |-- Август: string (nullable = true)\n",
      " |-- Сентябрь: string (nullable = true)\n",
      " |-- Октябрь: string (nullable = true)\n",
      " |-- Ноябрь: string (nullable = true)\n",
      " |-- Декабрь: string (nullable = true)\n",
      " |-- Январь - Декабрь: string (nullable = true)\n",
      "\n"
     ]
    }
   ],
   "source": [
    "passenger.printSchema()"
   ]
  },
  {
   "cell_type": "code",
   "execution_count": 29,
   "metadata": {},
   "outputs": [
    {
     "name": "stdout",
     "output_type": "stream",
     "text": [
      "+-----------------------------------+\n",
      "|Тип (наименование) воздушного судна|\n",
      "+-----------------------------------+\n",
      "|                   Авиатика 890-582|\n",
      "|                       SportCruiser|\n",
      "|                              СП-90|\n",
      "|                               Л-6М|\n",
      "|                               К-10|\n",
      "|                          Птенец-2А|\n",
      "|                              FA-20|\n",
      "|                        PZL Koliber|\n",
      "|                                МИР|\n",
      "|                         Sky Ranger|\n",
      "|                             Че-257|\n",
      "|                           Х-32-912|\n",
      "|                             СП-34К|\n",
      "|                          Red Liner|\n",
      "|                         Skycruiser|\n",
      "|                   KITFOX 5 OUTBACK|\n",
      "|                             ТУНДРА|\n",
      "|                      Принцесса 001|\n",
      "|                             ТР-301|\n",
      "|                    Птенец 2 РТ 912|\n",
      "+-----------------------------------+\n",
      "only showing top 20 rows\n",
      "\n"
     ]
    }
   ],
   "source": [
    "#print(*aircraft.loc[aircraft[\"Вид воздушного судна\"] == \"самолет\"][\"Тип (наименование) воздушного судна\"].unique().tolist(),sep='\\n')\n",
    "aircraft.filter(aircraft[\"Вид воздушного судна\"] == \"самолет\").select(\"Тип (наименование) воздушного судна\").distinct().show()"
   ]
  },
  {
   "cell_type": "code",
   "execution_count": 30,
   "metadata": {},
   "outputs": [],
   "source": [
    "aircraft = aircraft.withColumn('дата действующего свидетельства о регистрации', to_date(col('дата действующего свидетельства о регистрации'), 'dd.MM.yyyy'))"
   ]
  },
  {
   "cell_type": "code",
   "execution_count": 31,
   "metadata": {},
   "outputs": [
    {
     "name": "stdout",
     "output_type": "stream",
     "text": [
      "+--------------------+-----------------------------------+---------------------+----------+--------------+---------------------------------+---------------------------------------------+\n",
      "|Вид воздушного судна|Тип (наименование) воздушного судна|Опознавательные знаки|Серийный №|Идентификац. №|номер свидетельства о регистрации|дата действующего свидетельства о регистрации|\n",
      "+--------------------+-----------------------------------+---------------------+----------+--------------+---------------------------------+---------------------------------------------+\n",
      "|             самолет|                          E 330 LXK|             RA-2277G|      null|  ЕЭВС.03.2445|                             2126|                                   2017-12-22|\n",
      "+--------------------+-----------------------------------+---------------------+----------+--------------+---------------------------------+---------------------------------------------+\n",
      "\n"
     ]
    }
   ],
   "source": [
    "max_registration_date = aircraft.agg(max(col(\"дата действующего свидетельства о регистрации\"))).collect()[0][0]\n",
    "aircraft.filter((col(\"дата действующего свидетельства о регистрации\") == max_registration_date) & \n",
    "                           (col(\"Вид воздушного судна\") == \"самолет\")).show()"
   ]
  },
  {
   "cell_type": "code",
   "execution_count": 32,
   "metadata": {},
   "outputs": [],
   "source": [
    "aircraft.write.parquet(\"./aircraft.parquet\", mode=\"overwrite\")"
   ]
  },
  {
   "cell_type": "code",
   "execution_count": 33,
   "metadata": {},
   "outputs": [],
   "source": [
    "aircraft = spark.read.parquet(\"aircraft.parquet\")"
   ]
  },
  {
   "cell_type": "code",
   "execution_count": 34,
   "metadata": {},
   "outputs": [
    {
     "name": "stderr",
     "output_type": "stream",
     "text": [
      "23/11/23 20:48:09 WARN SparkSession: Using an existing Spark session; only runtime SQL configurations will take effect.\n"
     ]
    }
   ],
   "source": [
    "\n",
    "from pyspark.sql.functions import udf\n",
    "from pyspark.sql.types import FloatType\n",
    "from pyspark.sql import SparkSession\n",
    "\n",
    "\n",
    "months = ['Январь', 'Февраль',\n",
    "       'Март', 'Апрель', 'Май', 'Июнь', 'Июль', 'Август', 'Сентябрь',\n",
    "       'Октябрь', 'Ноябрь', 'Декабрь']\n",
    "months_year = months + ['Январь - Декабрь']\n",
    "\n",
    "\n",
    "spark = SparkSession.builder.appName(\"DataCleaning\").getOrCreate()\n",
    "\n",
    "def convert_to_float(x):\n",
    "    if x == \"***\":\n",
    "        return None \n",
    "    elif isinstance(x, str):\n",
    "        return float(x.replace(',', '.').replace(' ', ''))\n",
    "    else:\n",
    "        return x\n",
    "\n",
    "convert_to_float_udf = udf(convert_to_float, FloatType())\n",
    "\n",
    "for m in months_year:\n",
    "    cargo = cargo.withColumn(m, convert_to_float_udf(cargo[m]))\n",
    "    passenger = passenger.withColumn(m, convert_to_float_udf(passenger[m]))"
   ]
  },
  {
   "cell_type": "code",
   "execution_count": 35,
   "metadata": {},
   "outputs": [
    {
     "name": "stdout",
     "output_type": "stream",
     "text": [
      "+-------------------------+------------------+--------------------+--------------------+-----------------+\n",
      "|Наименование аэропорта РФ|Год периода данных|              Юрлицо|Пасажиропоток за год|Грузопоток за год|\n",
      "+-------------------------+------------------+--------------------+--------------------+-----------------+\n",
      "|                     Ухта|              2018|ОАО  «Комиавиатра...|                 0.0|              0.0|\n",
      "|                   Усинск|              2018|ОАО  «Комиавиатранс»|                 0.0|              0.0|\n",
      "|                   Печора|              2018|ОАО  «Комиавиатра...|                 0.0|              0.0|\n",
      "|                   Братск|              2018|    ПАО «АэроБратск»|                 0.0|              0.0|\n",
      "|                 Усть-Кут|              2018|ОАО «Аэропорт Уст...|                 0.0|              0.0|\n",
      "|                     Мама|              2018|ООО «Мамский аэро...|                 0.0|              0.0|\n",
      "|                  Бодайбо|              2018|Бодайбинское авиа...|                 0.0|              0.0|\n",
      "|                  Киренск|              2018|ООО «Аэропорт «Ки...|                 0.0|              0.0|\n",
      "|                Ербогачен|              2018|ООО «Аэропорт «Ки...|                 0.0|              0.0|\n",
      "|              Нижнеудинск|              2018|ООО «Аэропорт «Ни...|                 0.0|              0.0|\n",
      "|             Нижнеангарск|              2018|ОАО «Аэропорты Бу...|                 0.0|              0.0|\n",
      "|                     Чара|              2018|    ООО «Аэропорт»  |                 0.0|              0.0|\n",
      "|                    Айхал|              2018|\"Мирнинское авиац...|                 0.0|              0.0|\n",
      "|            Верхневилюйск|              2018|\"ФКП \"Аэропорты С...|                 0.0|              0.0|\n",
      "|              Депутатский|              2018|\"ФКП \"Аэропорты С...|                 0.0|              0.0|\n",
      "|                    Ленск|              2018|\"Мирнинское авиац...|             35202.0|           363.18|\n",
      "|                   Мирный|              2018|\"Мирнинское авиац...|            259115.0|        5795.6104|\n",
      "|                 Полярный|              2018|\"Мирнинское авиац...|             46241.0|           346.28|\n",
      "|            Среднеколымск|              2018|\"ФКП \"Аэропорты С...|                 0.0|              0.0|\n",
      "|                    Тикси|              2018|Аэродром совместн...|             13422.0|        318.97003|\n",
      "+-------------------------+------------------+--------------------+--------------------+-----------------+\n",
      "only showing top 20 rows\n",
      "\n"
     ]
    }
   ],
   "source": [
    "cargo = cargo.withColumnRenamed('Январь - Декабрь', 'Грузопоток за год')\n",
    "passenger = passenger.withColumnRenamed('Январь - Декабрь', 'Пасажиропоток за год')\n",
    "cargo = cargo.withColumn('Грузопоток за год', sum(coalesce(col(x), lit(0)) for x in months))\n",
    "passenger = passenger.withColumn('Пасажиропоток за год', sum(coalesce(col(x), lit(0)) for x in months))\n",
    "first_merge = airports.select(['Наименование аэропорта РФ', 'Юрлицо']).join(\n",
    "    passenger.select(['Наименование аэропорта РФ', 'Год периода данных', 'Пасажиропоток за год']), [\"Наименование аэропорта РФ\"], \"inner\"\n",
    ")\n",
    "\n",
    "company_year_sum = first_merge.join(\n",
    "    cargo.select(['Наименование аэропорта РФ', 'Год периода данных', 'Грузопоток за год']), [\"Наименование аэропорта РФ\", \"Год периода данных\"], \"inner\"\n",
    ")\n",
    "company_year_sum_2018 = company_year_sum.filter(company_year_sum['Год периода данных'] == 2018)\n",
    "company_year_sum_2018.show()"
   ]
  },
  {
   "cell_type": "code",
   "execution_count": null,
   "metadata": {},
   "outputs": [],
   "source": []
  }
 ],
 "metadata": {
  "kernelspec": {
   "display_name": "sparke",
   "language": "python",
   "name": "python3"
  },
  "language_info": {
   "codemirror_mode": {
    "name": "ipython",
    "version": 3
   },
   "file_extension": ".py",
   "mimetype": "text/x-python",
   "name": "python",
   "nbconvert_exporter": "python",
   "pygments_lexer": "ipython3",
   "version": "3.10.13"
  }
 },
 "nbformat": 4,
 "nbformat_minor": 2
}
